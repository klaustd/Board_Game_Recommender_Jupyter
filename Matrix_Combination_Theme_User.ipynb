{
 "cells": [
  {
   "cell_type": "markdown",
   "id": "c1504591",
   "metadata": {},
   "source": [
    "# Slight weighting of theme similarity scores with user similarity scores"
   ]
  },
  {
   "cell_type": "code",
   "execution_count": 1,
   "id": "4a663129",
   "metadata": {},
   "outputs": [],
   "source": [
    "import pandas as pd\n",
    "import numpy as np\n",
    "import pickle"
   ]
  },
  {
   "cell_type": "code",
   "execution_count": 2,
   "id": "476d8c2a",
   "metadata": {},
   "outputs": [],
   "source": [
    "df_similarity = pickle.load(open('similarity_scores_theme.pkl', 'rb'))\n",
    "df_similarity_user = pickle.load(open('similarity_scores_user.pkl', 'rb'))"
   ]
  },
  {
   "cell_type": "code",
   "execution_count": 3,
   "id": "1075861b",
   "metadata": {},
   "outputs": [],
   "source": [
    "similarity_matrix = np.multiply(df_similarity, 0.90)+np.multiply(df_similarity_user, 0.10)"
   ]
  },
  {
   "cell_type": "code",
   "execution_count": 4,
   "id": "00ded436",
   "metadata": {},
   "outputs": [],
   "source": [
    "pickle.dump(similarity_matrix, open('similarity_scores_theme_user', 'wb'))"
   ]
  },
  {
   "cell_type": "code",
   "execution_count": null,
   "id": "4f0573fe",
   "metadata": {},
   "outputs": [],
   "source": []
  }
 ],
 "metadata": {
  "kernelspec": {
   "display_name": "Python 3 (ipykernel)",
   "language": "python",
   "name": "python3"
  },
  "language_info": {
   "codemirror_mode": {
    "name": "ipython",
    "version": 3
   },
   "file_extension": ".py",
   "mimetype": "text/x-python",
   "name": "python",
   "nbconvert_exporter": "python",
   "pygments_lexer": "ipython3",
   "version": "3.9.7"
  }
 },
 "nbformat": 4,
 "nbformat_minor": 5
}
